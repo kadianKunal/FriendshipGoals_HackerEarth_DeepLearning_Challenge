{
  "nbformat": 4,
  "nbformat_minor": 0,
  "metadata": {
    "colab": {
      "name": "hackerearth_friendshipGoal.ipynb",
      "provenance": [],
      "collapsed_sections": []
    },
    "kernelspec": {
      "name": "python3",
      "display_name": "Python 3"
    },
    "accelerator": "GPU"
  },
  "cells": [
    {
      "cell_type": "markdown",
      "metadata": {
        "id": "PjlWzU72elu5",
        "colab_type": "text"
      },
      "source": [
        "# **HackerEarth Deep Learning Challenge: #FriendshipGoals**\n",
        "\n",
        "Contest link: [https://www.hackerearth.com/challenges/competitive/hackerearth-deep-learning-challenge-friendship-day/?utm_source=challenges-modern&utm_campaign=participated-challenges&utm_medium=right-panel](https://www.hackerearth.com/challenges/competitive/hackerearth-deep-learning-challenge-friendship-day/?utm_source=challenges-modern&utm_campaign=participated-challenges&utm_medium=right-panel)"
      ]
    },
    {
      "cell_type": "markdown",
      "metadata": {
        "id": "iygb1nUF5PPf",
        "colab_type": "text"
      },
      "source": [
        "## **Mounting drive on Collab**"
      ]
    },
    {
      "cell_type": "code",
      "metadata": {
        "id": "wuhDUxyT1f45",
        "colab_type": "code",
        "colab": {
          "base_uri": "https://localhost:8080/",
          "height": 122
        },
        "outputId": "b7de5159-80d5-448d-db26-e904f2da9507"
      },
      "source": [
        "from google.colab import drive\n",
        "drive.mount('/content/drive')"
      ],
      "execution_count": 2,
      "outputs": [
        {
          "output_type": "stream",
          "text": [
            "Go to this URL in a browser: https://accounts.google.com/o/oauth2/auth?client_id=947318989803-6bn6qk8qdgf4n4g3pfee6491hc0brc4i.apps.googleusercontent.com&redirect_uri=urn%3aietf%3awg%3aoauth%3a2.0%3aoob&scope=email%20https%3a%2f%2fwww.googleapis.com%2fauth%2fdocs.test%20https%3a%2f%2fwww.googleapis.com%2fauth%2fdrive%20https%3a%2f%2fwww.googleapis.com%2fauth%2fdrive.photos.readonly%20https%3a%2f%2fwww.googleapis.com%2fauth%2fpeopleapi.readonly&response_type=code\n",
            "\n",
            "Enter your authorization code:\n",
            "4/3wG3Cnm-70HL6V7XgiqDg92B3x9bkTkP_znN1dyTlKTAJpez_Uh9cP0\n",
            "Mounted at /content/drive\n"
          ],
          "name": "stdout"
        }
      ]
    },
    {
      "cell_type": "markdown",
      "metadata": {
        "id": "OPvo9RFz5g6b",
        "colab_type": "text"
      },
      "source": [
        "## **Download dataset in drive directly from Kaggle**"
      ]
    },
    {
      "cell_type": "code",
      "metadata": {
        "id": "lJE99rhH1tZD",
        "colab_type": "code",
        "colab": {
          "base_uri": "https://localhost:8080/",
          "height": 34
        },
        "outputId": "790f2e73-adb9-4ea5-a2d4-054c18be808a"
      },
      "source": [
        "import os\n",
        "os.environ['KAGGLE_CONFIG_DIR'] = \"/content/drive/My Drive/kaggle\"\n",
        "\n",
        "#changing the working directory\n",
        "%cd /content/drive/My Drive/kaggle"
      ],
      "execution_count": 58,
      "outputs": [
        {
          "output_type": "stream",
          "text": [
            "/content/drive/My Drive/kaggle\n"
          ],
          "name": "stdout"
        }
      ]
    },
    {
      "cell_type": "code",
      "metadata": {
        "id": "Pb_yzXUE9e0B",
        "colab_type": "code",
        "colab": {
          "base_uri": "https://localhost:8080/",
          "height": 34
        },
        "outputId": "1d8bcc31-04c6-4ea4-ee61-894fa09395b1"
      },
      "source": [
        "!kaggle datasets download -d bing101/friendshipgoals "
      ],
      "execution_count": 59,
      "outputs": [
        {
          "output_type": "stream",
          "text": [
            "friendshipgoals.zip: Skipping, found more recently modified local copy (use --force to force download)\n"
          ],
          "name": "stdout"
        }
      ]
    },
    {
      "cell_type": "markdown",
      "metadata": {
        "id": "St00ysLT6GOc",
        "colab_type": "text"
      },
      "source": [
        "### **Or Download Dataset manually from here**\n",
        "[https://www.kaggle.com/bing101/friendshipgoals/download](https://www.kaggle.com/bing101/friendshipgoals/download)\n"
      ]
    },
    {
      "cell_type": "markdown",
      "metadata": {
        "id": "BxSJsvRz6i7w",
        "colab_type": "text"
      },
      "source": [
        "## **Unzipping Dataset**"
      ]
    },
    {
      "cell_type": "code",
      "metadata": {
        "id": "T0iEmoDu_N4F",
        "colab_type": "code",
        "colab": {}
      },
      "source": [
        "!unzip \\*.zip  && rm *.zip"
      ],
      "execution_count": null,
      "outputs": []
    },
    {
      "cell_type": "markdown",
      "metadata": {
        "id": "l6Wt3Kpy7TQ3",
        "colab_type": "text"
      },
      "source": [
        "## **Oh Libraries! What are we without you**"
      ]
    },
    {
      "cell_type": "code",
      "metadata": {
        "id": "OWVeriod_ai8",
        "colab_type": "code",
        "colab": {}
      },
      "source": [
        "import os\n",
        "import numpy as np\n",
        "import pandas as pd\n",
        "import matplotlib.pyplot as plt\n",
        "import shutil, random\n",
        "\n",
        "from tensorflow.keras.applications.resnet_v2 import ResNet50V2\n",
        "from tensorflow.keras.models import Sequential\n",
        "from tensorflow.keras.layers import Dense, Flatten, Dropout, Conv2D, GlobalAveragePooling2D, GaussianNoise\n",
        "\n",
        "from tensorflow.keras.optimizers import Adam\n",
        "from tensorflow.keras import models, regularizers, layers, optimizers, losses, metrics\n",
        "from tensorflow.python.keras.preprocessing.image import ImageDataGenerator\n",
        "from tensorflow.keras.applications.resnet_v2 import preprocess_input"
      ],
      "execution_count": 61,
      "outputs": []
    },
    {
      "cell_type": "code",
      "metadata": {
        "id": "fJYGxcAAGtRE",
        "colab_type": "code",
        "colab": {}
      },
      "source": [
        "image_size = 224\n",
        "num_classes = 3\n",
        "\n",
        "train_path = '/content/drive/My Drive/kaggle/data/train'\n",
        "validate_path = '/content/drive/My Drive/kaggle/data/validate'\n",
        "test_path = '/content/drive/My Drive/kaggle/data/test'"
      ],
      "execution_count": 62,
      "outputs": []
    },
    {
      "cell_type": "markdown",
      "metadata": {
        "id": "pkKOwRIh8U0i",
        "colab_type": "text"
      },
      "source": [
        "## **Train - Validate Split**\n",
        "### Given kaggle dataset has no separate validation images folder. Transfering ~20% of train images classwise to validation folder "
      ]
    },
    {
      "cell_type": "code",
      "metadata": {
        "id": "XCYim0za8Ud-",
        "colab_type": "code",
        "colab": {
          "base_uri": "https://localhost:8080/",
          "height": 68
        },
        "outputId": "9168e623-c6a0-42df-89a1-27700b8a4ee1"
      },
      "source": [
        "for name in [\"/Toddler/\", \"/Teenagers/\", \"/Adults/\"]:\n",
        "\n",
        "  source = train_path + name\n",
        "  dest = validate_path + name\n",
        "\n",
        "  images = os.listdir(source)\n",
        "  print(len(images))\n",
        "\n",
        "  for image in images[:200]:\n",
        "      shutil.move(source+image, dest+image)"
      ],
      "execution_count": 64,
      "outputs": [
        {
          "output_type": "stream",
          "text": [
            "947\n",
            "921\n",
            "935\n"
          ],
          "name": "stdout"
        }
      ]
    },
    {
      "cell_type": "markdown",
      "metadata": {
        "id": "cMM9Vwt4_CHM",
        "colab_type": "text"
      },
      "source": [
        "## **Image Data Generator**"
      ]
    },
    {
      "cell_type": "code",
      "metadata": {
        "id": "cwEbH0jTswNP",
        "colab_type": "code",
        "colab": {}
      },
      "source": [
        "data_generator_train = ImageDataGenerator( preprocessing_function= preprocess_input,\n",
        "                                           horizontal_flip = True,\n",
        "                                           width_shift_range = 0.2,\n",
        "                                           height_shift_range = 0.2,\n",
        "                                           rotation_range = 10\n",
        "                                          )\n",
        "            \n",
        "data_generator_validate = ImageDataGenerator(preprocessing_function= preprocess_input)\n",
        "\n",
        "data_generator_test = ImageDataGenerator(preprocessing_function= preprocess_input)"
      ],
      "execution_count": 141,
      "outputs": []
    },
    {
      "cell_type": "code",
      "metadata": {
        "id": "z2WHtti2_nAv",
        "colab_type": "code",
        "colab": {
          "base_uri": "https://localhost:8080/",
          "height": 68
        },
        "outputId": "85b5c7c6-9ccf-4aee-b0ed-9e83c5f5f18a"
      },
      "source": [
        "train_generator = data_generator_train.flow_from_directory(\n",
        "        directory = train_path,\n",
        "        shuffle=True,\n",
        "        target_size=(image_size, image_size),\n",
        "        batch_size= 16,\n",
        "        class_mode='categorical',\n",
        "        )\n",
        "\n",
        "validation_generator = data_generator_validate.flow_from_directory(\n",
        "        directory = validate_path,\n",
        "        shuffle=True,\n",
        "        target_size=(image_size, image_size),\n",
        "        batch_size = 16,\n",
        "        class_mode='categorical',\n",
        "        )\n",
        "\n",
        "test_generator = data_generator_test.flow_from_directory(\n",
        "        directory = test_path,\n",
        "        shuffle=False,\n",
        "        target_size=(image_size, image_size),\n",
        "        class_mode=None,\n",
        "        )"
      ],
      "execution_count": 142,
      "outputs": [
        {
          "output_type": "stream",
          "text": [
            "Found 2203 images belonging to 3 classes.\n",
            "Found 600 images belonging to 3 classes.\n",
            "Found 314 images belonging to 1 classes.\n"
          ],
          "name": "stdout"
        }
      ]
    },
    {
      "cell_type": "markdown",
      "metadata": {
        "id": "I3EAlu15_0eS",
        "colab_type": "text"
      },
      "source": [
        "## **Creating Model - with ResNet50V2 as Base Model**"
      ]
    },
    {
      "cell_type": "code",
      "metadata": {
        "id": "ILF34U65HePF",
        "colab_type": "code",
        "colab": {}
      },
      "source": [
        "#base Model\n",
        "conv_base = ResNet50V2(weights='imagenet', include_top=False, input_shape = (image_size, image_size, 3))\n",
        "\n",
        "for layer in conv_base.layers[:]:\n",
        "  layer.trainable = False\n",
        "\n",
        "my_model = Sequential()\n",
        "my_model.add(conv_base)\n",
        "my_model.add(GlobalAveragePooling2D())\n",
        "my_model.add(Dense(64, activation='relu'))\n",
        "my_model.add(Dropout(0.2))\n",
        "my_model.add(Dense(32, activation='relu'))\n",
        "my_model.add(Dropout(0.2))\n",
        "my_model.add(Dense(num_classes, activation='softmax'))\n"
      ],
      "execution_count": 143,
      "outputs": []
    },
    {
      "cell_type": "code",
      "metadata": {
        "id": "U2YhYwGZBCX3",
        "colab_type": "code",
        "colab": {}
      },
      "source": [
        "my_model.compile(optimizer= Adam(learning_rate=1e-4), loss='categorical_crossentropy', metrics=['accuracy'])"
      ],
      "execution_count": 144,
      "outputs": []
    },
    {
      "cell_type": "markdown",
      "metadata": {
        "id": "YD1GOOlFBIZ3",
        "colab_type": "text"
      },
      "source": [
        "## **Model Summary**"
      ]
    },
    {
      "cell_type": "code",
      "metadata": {
        "id": "u48velqATMqn",
        "colab_type": "code",
        "colab": {
          "base_uri": "https://localhost:8080/",
          "height": 408
        },
        "outputId": "6ba32187-7f21-40f8-a4b4-8830745ceeca"
      },
      "source": [
        "print(my_model.summary())"
      ],
      "execution_count": 145,
      "outputs": [
        {
          "output_type": "stream",
          "text": [
            "Model: \"sequential_8\"\n",
            "_________________________________________________________________\n",
            "Layer (type)                 Output Shape              Param #   \n",
            "=================================================================\n",
            "resnet50v2 (Functional)      (None, 7, 7, 2048)        23564800  \n",
            "_________________________________________________________________\n",
            "global_average_pooling2d_8 ( (None, 2048)              0         \n",
            "_________________________________________________________________\n",
            "dense_24 (Dense)             (None, 64)                131136    \n",
            "_________________________________________________________________\n",
            "dropout_16 (Dropout)         (None, 64)                0         \n",
            "_________________________________________________________________\n",
            "dense_25 (Dense)             (None, 32)                2080      \n",
            "_________________________________________________________________\n",
            "dropout_17 (Dropout)         (None, 32)                0         \n",
            "_________________________________________________________________\n",
            "dense_26 (Dense)             (None, 3)                 99        \n",
            "=================================================================\n",
            "Total params: 23,698,115\n",
            "Trainable params: 133,315\n",
            "Non-trainable params: 23,564,800\n",
            "_________________________________________________________________\n",
            "None\n"
          ],
          "name": "stdout"
        }
      ]
    },
    {
      "cell_type": "markdown",
      "metadata": {
        "id": "GDwJ9owzBMgI",
        "colab_type": "text"
      },
      "source": [
        "## **Fitting the Model**"
      ]
    },
    {
      "cell_type": "code",
      "metadata": {
        "id": "auBb1rgss7sV",
        "colab_type": "code",
        "colab": {
          "base_uri": "https://localhost:8080/",
          "height": 187
        },
        "outputId": "f2fc76f1-4eb0-4525-97d4-63a2673d14b1"
      },
      "source": [
        "history = my_model.fit(train_generator,\n",
        "                        # steps_per_epoch=40,\n",
        "                        epochs = 5,\n",
        "                        validation_data=validation_generator\n",
        "                      )"
      ],
      "execution_count": 146,
      "outputs": [
        {
          "output_type": "stream",
          "text": [
            "Epoch 1/5\n",
            "138/138 [==============================] - 34s 248ms/step - loss: 1.1036 - accuracy: 0.4231 - val_loss: 0.9986 - val_accuracy: 0.4700\n",
            "Epoch 2/5\n",
            "138/138 [==============================] - 33s 240ms/step - loss: 0.9873 - accuracy: 0.4925 - val_loss: 0.9245 - val_accuracy: 0.5483\n",
            "Epoch 3/5\n",
            "138/138 [==============================] - 33s 239ms/step - loss: 0.9369 - accuracy: 0.5306 - val_loss: 0.8810 - val_accuracy: 0.5750\n",
            "Epoch 4/5\n",
            "138/138 [==============================] - 33s 239ms/step - loss: 0.8906 - accuracy: 0.5683 - val_loss: 0.8622 - val_accuracy: 0.5900\n",
            "Epoch 5/5\n",
            "138/138 [==============================] - 33s 240ms/step - loss: 0.8673 - accuracy: 0.5942 - val_loss: 0.8454 - val_accuracy: 0.5817\n"
          ],
          "name": "stdout"
        }
      ]
    },
    {
      "cell_type": "markdown",
      "metadata": {
        "id": "jlDnwvXMF0qR",
        "colab_type": "text"
      },
      "source": [
        "## **Plotting Accuracy and Loss**"
      ]
    },
    {
      "cell_type": "code",
      "metadata": {
        "id": "ZsMEBMGVs70y",
        "colab_type": "code",
        "colab": {
          "base_uri": "https://localhost:8080/",
          "height": 562
        },
        "outputId": "d876df8e-583e-4f15-a77b-941ac7ab36ce"
      },
      "source": [
        "acc      = history.history[ 'accuracy' ]\n",
        "val_acc  = history.history[ 'val_accuracy' ]\n",
        "loss     = history.history[ 'loss' ]\n",
        "val_loss = history.history['val_loss' ]\n",
        "\n",
        "epochs   = range(len(acc)) # Get number of epochs\n",
        "\n",
        "#------------------------------------------------\n",
        "# Plot training and validation accuracy per epoch\n",
        "#------------------------------------------------\n",
        "plt.plot( epochs, acc )\n",
        "plt.plot( epochs, val_acc )\n",
        "plt.title('Training and validation accuracy')\n",
        "plt.figure()\n",
        "\n",
        "#------------------------------------------------\n",
        "# Plot training and validation loss per epoch\n",
        "#------------------------------------------------\n",
        "plt.plot  ( epochs,     loss )\n",
        "plt.plot  ( epochs, val_loss )\n",
        "plt.title ('Training and validation loss'   )"
      ],
      "execution_count": 147,
      "outputs": [
        {
          "output_type": "execute_result",
          "data": {
            "text/plain": [
              "Text(0.5, 1.0, 'Training and validation loss')"
            ]
          },
          "metadata": {
            "tags": []
          },
          "execution_count": 147
        },
        {
          "output_type": "display_data",
          "data": {
            "image/png": "[encoded data removed]",
            "text/plain": [
              "<Figure size 432x288 with 1 Axes>"
            ]
          },
          "metadata": {
            "tags": [],
            "needs_background": "light"
          }
        },
        {
          "output_type": "display_data",
          "data": {
            "image/png": "[encoded data removed]",
            "text/plain": [
              "<Figure size 432x288 with 1 Axes>"
            ]
          },
          "metadata": {
            "tags": [],
            "needs_background": "light"
          }
        }
      ]
    },
    {
      "cell_type": "markdown",
      "metadata": {
        "id": "Bm_S79T6Ggjg",
        "colab_type": "text"
      },
      "source": [
        "## **Fine-tuning last few layers of base ResNet50V2 Model**"
      ]
    },
    {
      "cell_type": "code",
      "metadata": {
        "id": "sM6ku_Tpc-FM",
        "colab_type": "code",
        "colab": {
          "base_uri": "https://localhost:8080/",
          "height": 1000
        },
        "outputId": "df8746ed-45aa-49d6-dabb-8b68c5eccf4e"
      },
      "source": [
        "for layer in conv_base.layers[:179]:\n",
        "   layer.trainable = False\n",
        "for layer in conv_base.layers[179:]:\n",
        "   layer.trainable = True\n",
        "\n",
        "for i, layer in enumerate(conv_base.layers):\n",
        "   print(i, layer.name, layer.trainable)"
      ],
      "execution_count": 148,
      "outputs": [
        {
          "output_type": "stream",
          "text": [
            "0 input_9 False\n",
            "1 conv1_pad False\n",
            "2 conv1_conv False\n",
            "3 pool1_pad False\n",
            "4 pool1_pool False\n",
            "5 conv2_block1_preact_bn False\n",
            "6 conv2_block1_preact_relu False\n",
            "7 conv2_block1_1_conv False\n",
            "8 conv2_block1_1_bn False\n",
            "9 conv2_block1_1_relu False\n",
            "10 conv2_block1_2_pad False\n",
            "11 conv2_block1_2_conv False\n",
            "12 conv2_block1_2_bn False\n",
            "13 conv2_block1_2_relu False\n",
            "14 conv2_block1_0_conv False\n",
            "15 conv2_block1_3_conv False\n",
            "16 conv2_block1_out False\n",
            "17 conv2_block2_preact_bn False\n",
            "18 conv2_block2_preact_relu False\n",
            "19 conv2_block2_1_conv False\n",
            "20 conv2_block2_1_bn False\n",
            "21 conv2_block2_1_relu False\n",
            "22 conv2_block2_2_pad False\n",
            "23 conv2_block2_2_conv False\n",
            "24 conv2_block2_2_bn False\n",
            "25 conv2_block2_2_relu False\n",
            "26 conv2_block2_3_conv False\n",
            "27 conv2_block2_out False\n",
            "28 conv2_block3_preact_bn False\n",
            "29 conv2_block3_preact_relu False\n",
            "30 conv2_block3_1_conv False\n",
            "31 conv2_block3_1_bn False\n",
            "32 conv2_block3_1_relu False\n",
            "33 conv2_block3_2_pad False\n",
            "34 conv2_block3_2_conv False\n",
            "35 conv2_block3_2_bn False\n",
            "36 conv2_block3_2_relu False\n",
            "37 max_pooling2d_24 False\n",
            "38 conv2_block3_3_conv False\n",
            "39 conv2_block3_out False\n",
            "40 conv3_block1_preact_bn False\n",
            "41 conv3_block1_preact_relu False\n",
            "42 conv3_block1_1_conv False\n",
            "43 conv3_block1_1_bn False\n",
            "44 conv3_block1_1_relu False\n",
            "45 conv3_block1_2_pad False\n",
            "46 conv3_block1_2_conv False\n",
            "47 conv3_block1_2_bn False\n",
            "48 conv3_block1_2_relu False\n",
            "49 conv3_block1_0_conv False\n",
            "50 conv3_block1_3_conv False\n",
            "51 conv3_block1_out False\n",
            "52 conv3_block2_preact_bn False\n",
            "53 conv3_block2_preact_relu False\n",
            "54 conv3_block2_1_conv False\n",
            "55 conv3_block2_1_bn False\n",
            "56 conv3_block2_1_relu False\n",
            "57 conv3_block2_2_pad False\n",
            "58 conv3_block2_2_conv False\n",
            "59 conv3_block2_2_bn False\n",
            "60 conv3_block2_2_relu False\n",
            "61 conv3_block2_3_conv False\n",
            "62 conv3_block2_out False\n",
            "63 conv3_block3_preact_bn False\n",
            "64 conv3_block3_preact_relu False\n",
            "65 conv3_block3_1_conv False\n",
            "66 conv3_block3_1_bn False\n",
            "67 conv3_block3_1_relu False\n",
            "68 conv3_block3_2_pad False\n",
            "69 conv3_block3_2_conv False\n",
            "70 conv3_block3_2_bn False\n",
            "71 conv3_block3_2_relu False\n",
            "72 conv3_block3_3_conv False\n",
            "73 conv3_block3_out False\n",
            "74 conv3_block4_preact_bn False\n",
            "75 conv3_block4_preact_relu False\n",
            "76 conv3_block4_1_conv False\n",
            "77 conv3_block4_1_bn False\n",
            "78 conv3_block4_1_relu False\n",
            "79 conv3_block4_2_pad False\n",
            "80 conv3_block4_2_conv False\n",
            "81 conv3_block4_2_bn False\n",
            "82 conv3_block4_2_relu False\n",
            "83 max_pooling2d_25 False\n",
            "84 conv3_block4_3_conv False\n",
            "85 conv3_block4_out False\n",
            "86 conv4_block1_preact_bn False\n",
            "87 conv4_block1_preact_relu False\n",
            "88 conv4_block1_1_conv False\n",
            "89 conv4_block1_1_bn False\n",
            "90 conv4_block1_1_relu False\n",
            "91 conv4_block1_2_pad False\n",
            "92 conv4_block1_2_conv False\n",
            "93 conv4_block1_2_bn False\n",
            "94 conv4_block1_2_relu False\n",
            "95 conv4_block1_0_conv False\n",
            "96 conv4_block1_3_conv False\n",
            "97 conv4_block1_out False\n",
            "98 conv4_block2_preact_bn False\n",
            "99 conv4_block2_preact_relu False\n",
            "100 conv4_block2_1_conv False\n",
            "101 conv4_block2_1_bn False\n",
            "102 conv4_block2_1_relu False\n",
            "103 conv4_block2_2_pad False\n",
            "104 conv4_block2_2_conv False\n",
            "105 conv4_block2_2_bn False\n",
            "106 conv4_block2_2_relu False\n",
            "107 conv4_block2_3_conv False\n",
            "108 conv4_block2_out False\n",
            "109 conv4_block3_preact_bn False\n",
            "110 conv4_block3_preact_relu False\n",
            "111 conv4_block3_1_conv False\n",
            "112 conv4_block3_1_bn False\n",
            "113 conv4_block3_1_relu False\n",
            "114 conv4_block3_2_pad False\n",
            "115 conv4_block3_2_conv False\n",
            "116 conv4_block3_2_bn False\n",
            "117 conv4_block3_2_relu False\n",
            "118 conv4_block3_3_conv False\n",
            "119 conv4_block3_out False\n",
            "120 conv4_block4_preact_bn False\n",
            "121 conv4_block4_preact_relu False\n",
            "122 conv4_block4_1_conv False\n",
            "123 conv4_block4_1_bn False\n",
            "124 conv4_block4_1_relu False\n",
            "125 conv4_block4_2_pad False\n",
            "126 conv4_block4_2_conv False\n",
            "127 conv4_block4_2_bn False\n",
            "128 conv4_block4_2_relu False\n",
            "129 conv4_block4_3_conv False\n",
            "130 conv4_block4_out False\n",
            "131 conv4_block5_preact_bn False\n",
            "132 conv4_block5_preact_relu False\n",
            "133 conv4_block5_1_conv False\n",
            "134 conv4_block5_1_bn False\n",
            "135 conv4_block5_1_relu False\n",
            "136 conv4_block5_2_pad False\n",
            "137 conv4_block5_2_conv False\n",
            "138 conv4_block5_2_bn False\n",
            "139 conv4_block5_2_relu False\n",
            "140 conv4_block5_3_conv False\n",
            "141 conv4_block5_out False\n",
            "142 conv4_block6_preact_bn False\n",
            "143 conv4_block6_preact_relu False\n",
            "144 conv4_block6_1_conv False\n",
            "145 conv4_block6_1_bn False\n",
            "146 conv4_block6_1_relu False\n",
            "147 conv4_block6_2_pad False\n",
            "148 conv4_block6_2_conv False\n",
            "149 conv4_block6_2_bn False\n",
            "150 conv4_block6_2_relu False\n",
            "151 max_pooling2d_26 False\n",
            "152 conv4_block6_3_conv False\n",
            "153 conv4_block6_out False\n",
            "154 conv5_block1_preact_bn False\n",
            "155 conv5_block1_preact_relu False\n",
            "156 conv5_block1_1_conv False\n",
            "157 conv5_block1_1_bn False\n",
            "158 conv5_block1_1_relu False\n",
            "159 conv5_block1_2_pad False\n",
            "160 conv5_block1_2_conv False\n",
            "161 conv5_block1_2_bn False\n",
            "162 conv5_block1_2_relu False\n",
            "163 conv5_block1_0_conv False\n",
            "164 conv5_block1_3_conv False\n",
            "165 conv5_block1_out False\n",
            "166 conv5_block2_preact_bn False\n",
            "167 conv5_block2_preact_relu False\n",
            "168 conv5_block2_1_conv False\n",
            "169 conv5_block2_1_bn False\n",
            "170 conv5_block2_1_relu False\n",
            "171 conv5_block2_2_pad False\n",
            "172 conv5_block2_2_conv False\n",
            "173 conv5_block2_2_bn False\n",
            "174 conv5_block2_2_relu False\n",
            "175 conv5_block2_3_conv False\n",
            "176 conv5_block2_out False\n",
            "177 conv5_block3_preact_bn False\n",
            "178 conv5_block3_preact_relu False\n",
            "179 conv5_block3_1_conv True\n",
            "180 conv5_block3_1_bn True\n",
            "181 conv5_block3_1_relu True\n",
            "182 conv5_block3_2_pad True\n",
            "183 conv5_block3_2_conv True\n",
            "184 conv5_block3_2_bn True\n",
            "185 conv5_block3_2_relu True\n",
            "186 conv5_block3_3_conv True\n",
            "187 conv5_block3_out True\n",
            "188 post_bn True\n",
            "189 post_relu True\n"
          ],
          "name": "stdout"
        }
      ]
    },
    {
      "cell_type": "code",
      "metadata": {
        "id": "2ays-4ThdIVO",
        "colab_type": "code",
        "colab": {}
      },
      "source": [
        "# conv_base.layers[179].trainable = True\n",
        "# conv_base.layers[180].trainable = False\n",
        "# conv_base.layers[184].trainable = False"
      ],
      "execution_count": 149,
      "outputs": []
    },
    {
      "cell_type": "code",
      "metadata": {
        "id": "Le4DBmNOde4x",
        "colab_type": "code",
        "colab": {}
      },
      "source": [
        "my_model.compile(optimizer= Adam(learning_rate=1e-5), loss='categorical_crossentropy', metrics=['accuracy'])"
      ],
      "execution_count": 150,
      "outputs": []
    },
    {
      "cell_type": "code",
      "metadata": {
        "id": "GlVxgqEmde6v",
        "colab_type": "code",
        "colab": {
          "base_uri": "https://localhost:8080/",
          "height": 187
        },
        "outputId": "0b3a4e48-a45f-41e4-ac9e-9453dc4a465b"
      },
      "source": [
        "history = my_model.fit(train_generator,\n",
        "                      #  steps_per_epoch=40,\n",
        "                        epochs = 5,\n",
        "                        validation_data=validation_generator\n",
        "                      )"
      ],
      "execution_count": 152,
      "outputs": [
        {
          "output_type": "stream",
          "text": [
            "Epoch 1/5\n",
            "138/138 [==============================] - 33s 240ms/step - loss: 0.7880 - accuracy: 0.6464 - val_loss: 0.8374 - val_accuracy: 0.6100\n",
            "Epoch 2/5\n",
            "138/138 [==============================] - 33s 242ms/step - loss: 0.7721 - accuracy: 0.6600 - val_loss: 0.8296 - val_accuracy: 0.6117\n",
            "Epoch 3/5\n",
            "138/138 [==============================] - 33s 241ms/step - loss: 0.7386 - accuracy: 0.6754 - val_loss: 0.8357 - val_accuracy: 0.6233\n",
            "Epoch 4/5\n",
            "138/138 [==============================] - 33s 240ms/step - loss: 0.7308 - accuracy: 0.6786 - val_loss: 0.8441 - val_accuracy: 0.6233\n",
            "Epoch 5/5\n",
            "138/138 [==============================] - 33s 241ms/step - loss: 0.7093 - accuracy: 0.6904 - val_loss: 0.8383 - val_accuracy: 0.6117\n"
          ],
          "name": "stdout"
        }
      ]
    },
    {
      "cell_type": "markdown",
      "metadata": {
        "id": "ZdwPBO7KI0dY",
        "colab_type": "text"
      },
      "source": [
        "## **Label Encoding the Images**"
      ]
    },
    {
      "cell_type": "code",
      "metadata": {
        "id": "38qVNLDkXOWk",
        "colab_type": "code",
        "colab": {
          "base_uri": "https://localhost:8080/",
          "height": 34
        },
        "outputId": "5f9dbaac-b11c-412a-999e-e6e7d4875ad0"
      },
      "source": [
        "lst = ['Adults','Teenagers','Toddler']\n",
        "from sklearn.preprocessing import LabelEncoder\n",
        "\n",
        "LE = LabelEncoder()\n",
        "LE.fit(lst)"
      ],
      "execution_count": 153,
      "outputs": [
        {
          "output_type": "execute_result",
          "data": {
            "text/plain": [
              "LabelEncoder()"
            ]
          },
          "metadata": {
            "tags": []
          },
          "execution_count": 153
        }
      ]
    },
    {
      "cell_type": "markdown",
      "metadata": {
        "id": "iyQupk8mJs7h",
        "colab_type": "text"
      },
      "source": [
        "## **Model Prediction**"
      ]
    },
    {
      "cell_type": "code",
      "metadata": {
        "id": "-DbMzhTWeRKf",
        "colab_type": "code",
        "colab": {}
      },
      "source": [
        "prediction = my_model.predict(test_generator)\n",
        "result = np.argmax(prediction, axis=1)\n",
        "\n",
        "img_names = os.listdir('/content/drive/My Drive/kaggle/data/test/test')\n",
        "\n",
        "target = {}\n",
        "\n",
        "for i,img in enumerate(img_names):\n",
        "  target[img] = LE.inverse_transform([result[i]])[0]"
      ],
      "execution_count": 154,
      "outputs": []
    },
    {
      "cell_type": "code",
      "metadata": {
        "id": "swU3yTTLKaan",
        "colab_type": "code",
        "colab": {
          "base_uri": "https://localhost:8080/",
          "height": 34
        },
        "outputId": "d489629d-0c1f-43ea-bf4c-9c53a271e4a5"
      },
      "source": [
        "result[:5]"
      ],
      "execution_count": 155,
      "outputs": [
        {
          "output_type": "execute_result",
          "data": {
            "text/plain": [
              "array([1, 0, 1, 1, 1])"
            ]
          },
          "metadata": {
            "tags": []
          },
          "execution_count": 155
        }
      ]
    },
    {
      "cell_type": "code",
      "metadata": {
        "id": "WaYJXuLFKiPG",
        "colab_type": "code",
        "colab": {
          "base_uri": "https://localhost:8080/",
          "height": 34
        },
        "outputId": "686d540d-88d3-4317-917f-1122da77ca42"
      },
      "source": [
        "img_names[:5]"
      ],
      "execution_count": 156,
      "outputs": [
        {
          "output_type": "execute_result",
          "data": {
            "text/plain": [
              "['Img1001.jpg', 'Img1017.jpg', 'Img1020.jpg', 'Img1025.jpg', 'Img1038.jpg']"
            ]
          },
          "metadata": {
            "tags": []
          },
          "execution_count": 156
        }
      ]
    },
    {
      "cell_type": "markdown",
      "metadata": {
        "id": "REMi_Q7scL9m",
        "colab_type": "text"
      },
      "source": [
        "## **Generate output.csv** - Containing predictions for given test images"
      ]
    },
    {
      "cell_type": "code",
      "metadata": {
        "id": "sFNnjrzleRFY",
        "colab_type": "code",
        "colab": {}
      },
      "source": [
        "labels = pd.read_csv('/content/drive/My Drive/kaggle/data/Test.csv')\n",
        "img_names = labels.iloc[:,:].values.reshape(-1,)\n",
        "\n",
        "final= []\n",
        "for img in img_names:\n",
        "  final.append([img, target[img]])\n",
        "\n",
        "df = pd.DataFrame(final, columns = [\"Filename\",\"Category\"])\n",
        "output_csv = df.to_csv('./output.csv', index=False)"
      ],
      "execution_count": 157,
      "outputs": []
    },
    {
      "cell_type": "markdown",
      "metadata": {
        "id": "kquDHHj1dRZe",
        "colab_type": "text"
      },
      "source": [
        "## **Analysis of output.csv**"
      ]
    },
    {
      "cell_type": "code",
      "metadata": {
        "id": "0ArtoRT-eRDx",
        "colab_type": "code",
        "colab": {}
      },
      "source": [
        "kk = pd.read_csv('output.csv')"
      ],
      "execution_count": 159,
      "outputs": []
    },
    {
      "cell_type": "code",
      "metadata": {
        "id": "IHBpcaYOHn3C",
        "colab_type": "code",
        "colab": {
          "base_uri": "https://localhost:8080/",
          "height": 204
        },
        "outputId": "73d8c368-113d-4ba7-c370-2eae6fa1151c"
      },
      "source": [
        "kk.head()"
      ],
      "execution_count": 160,
      "outputs": [
        {
          "output_type": "execute_result",
          "data": {
            "text/html": [
              "<div>\n",
              "<style scoped>\n",
              "    .dataframe tbody tr th:only-of-type {\n",
              "        vertical-align: middle;\n",
              "    }\n",
              "\n",
              "    .dataframe tbody tr th {\n",
              "        vertical-align: top;\n",
              "    }\n",
              "\n",
              "    .dataframe thead th {\n",
              "        text-align: right;\n",
              "    }\n",
              "</style>\n",
              "<table border=\"1\" class=\"dataframe\">\n",
              "  <thead>\n",
              "    <tr style=\"text-align: right;\">\n",
              "      <th></th>\n",
              "      <th>Filename</th>\n",
              "      <th>Category</th>\n",
              "    </tr>\n",
              "  </thead>\n",
              "  <tbody>\n",
              "    <tr>\n",
              "      <th>0</th>\n",
              "      <td>Img1137.jpg</td>\n",
              "      <td>Adults</td>\n",
              "    </tr>\n",
              "    <tr>\n",
              "      <th>1</th>\n",
              "      <td>Img3633.jpg</td>\n",
              "      <td>Teenagers</td>\n",
              "    </tr>\n",
              "    <tr>\n",
              "      <th>2</th>\n",
              "      <td>Img1474.jpg</td>\n",
              "      <td>Adults</td>\n",
              "    </tr>\n",
              "    <tr>\n",
              "      <th>3</th>\n",
              "      <td>Img3459.jpg</td>\n",
              "      <td>Adults</td>\n",
              "    </tr>\n",
              "    <tr>\n",
              "      <th>4</th>\n",
              "      <td>Img5578.jpg</td>\n",
              "      <td>Toddler</td>\n",
              "    </tr>\n",
              "  </tbody>\n",
              "</table>\n",
              "</div>"
            ],
            "text/plain": [
              "      Filename   Category\n",
              "0  Img1137.jpg     Adults\n",
              "1  Img3633.jpg  Teenagers\n",
              "2  Img1474.jpg     Adults\n",
              "3  Img3459.jpg     Adults\n",
              "4  Img5578.jpg    Toddler"
            ]
          },
          "metadata": {
            "tags": []
          },
          "execution_count": 160
        }
      ]
    },
    {
      "cell_type": "code",
      "metadata": {
        "id": "9p7-RCNoHs_j",
        "colab_type": "code",
        "colab": {
          "base_uri": "https://localhost:8080/",
          "height": 323
        },
        "outputId": "4c226fb5-f38d-4125-bd9d-a0ad741f0fc9"
      },
      "source": [
        "kk['Category'].value_counts().plot(kind='bar')"
      ],
      "execution_count": 161,
      "outputs": [
        {
          "output_type": "execute_result",
          "data": {
            "text/plain": [
              "<matplotlib.axes._subplots.AxesSubplot at 0x7f0eeba5c7b8>"
            ]
          },
          "metadata": {
            "tags": []
          },
          "execution_count": 161
        },
        {
          "output_type": "display_data",
          "data": {
            "image/png": "[encoded data removed]",
            "text/plain": [
              "<Figure size 432x288 with 1 Axes>"
            ]
          },
          "metadata": {
            "tags": [],
            "needs_background": "light"
          }
        }
      ]
    }
  ]
}